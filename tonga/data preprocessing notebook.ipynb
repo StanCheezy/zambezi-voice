{
 "cells": [
  {
   "cell_type": "code",
   "execution_count": 1,
   "metadata": {},
   "outputs": [],
   "source": [
    "import os \n",
    "import nltk \n",
    "import wave \n",
    "from glob import glob "
   ]
  },
  {
   "cell_type": "code",
   "execution_count": 2,
   "metadata": {},
   "outputs": [],
   "source": [
    "def remove_punct(text):\n",
    "    tokenizer = nltk.RegexpTokenizer(r\"\\w+\") \n",
    "    new_words = tokenizer.tokenize(text)\n",
    "    t = ''\n",
    "    for i in new_words: \n",
    "        t+= i+' '\n",
    "    return t "
   ]
  },
  {
   "cell_type": "code",
   "execution_count": 3,
   "metadata": {},
   "outputs": [],
   "source": [
    "sessions = glob(\"/home/csikasote/Documents/Unza-NLP-Repos/zambezi-voice/tonga/Session_recordings/*/*/session_*.txt\")\n",
    "linkers = glob(\"/home/csikasote/Documents/Unza-NLP-Repos/zambezi-voice/tonga/Session_recordings/*/*/*linker.txt\")"
   ]
  },
  {
   "cell_type": "code",
   "execution_count": 4,
   "metadata": {},
   "outputs": [],
   "source": [
    "all_session_text = open('all_sessions.txt', 'w') "
   ]
  },
  {
   "cell_type": "code",
   "execution_count": 5,
   "metadata": {},
   "outputs": [
    {
     "name": "stdout",
     "output_type": "stream",
     "text": [
      "corrupted audio: 220912-145955_toi_707_elicit_0.wav -- removed: \n",
      "corrupted audio: 220912-145955_toi_707_elicit_4.wav -- removed: \n",
      "corrupted audio: 220912-145955_toi_707_elicit_5.wav -- removed: \n",
      "corrupted audio: 220912-145955_toi_707_elicit_22.wav -- removed: \n",
      "corrupted audio: 220912-145955_toi_707_elicit_28.wav -- removed: \n",
      "corrupted audio: 220912-145955_toi_707_elicit_37.wav -- removed: \n",
      "corrupted audio: 220912-145955_toi_707_elicit_40.wav -- removed: \n",
      "corrupted audio: 220912-145955_toi_707_elicit_46.wav -- removed: \n",
      "corrupted audio: 220906-211510_toi_707_elicit_9.wav -- removed: \n",
      "corrupted audio: 220906-211510_toi_707_elicit_15.wav -- removed: \n",
      "corrupted audio: 220906-211510_toi_707_elicit_18.wav -- removed: \n",
      "corrupted audio: 220906-211510_toi_707_elicit_27.wav -- removed: \n",
      "corrupted audio: 220903-202609_toi_707_elicit_2.wav -- removed: \n",
      "corrupted audio: 220903-202609_toi_707_elicit_5.wav -- removed: \n",
      "corrupted audio: 220903-202609_toi_707_elicit_9.wav -- removed: \n",
      "corrupted audio: 220903-202609_toi_707_elicit_26.wav -- removed: \n",
      "corrupted audio: 220903-202609_toi_707_elicit_29.wav -- removed: \n",
      "corrupted audio: 220903-202609_toi_707_elicit_31.wav -- removed: \n",
      "corrupted audio: 220903-202609_toi_707_elicit_36.wav -- removed: \n",
      "corrupted audio: 220903-202609_toi_707_elicit_38.wav -- removed: \n",
      "corrupted audio: 220903-202609_toi_707_elicit_41.wav -- removed: \n",
      "corrupted audio: 220903-202609_toi_707_elicit_48.wav -- removed: \n",
      "corrupted audio: 220829-204606_toi_0ae_elicit_0.wav -- removed: \n",
      "corrupted audio: 220829-204606_toi_0ae_elicit_5.wav -- removed: \n",
      "corrupted audio: 220829-205441_toi_0ae_elicit_27.wav -- removed: \n",
      "corrupted audio: 220829-210132_toi_0ae_elicit_40.wav -- removed: \n",
      "corrupted audio: 220907-085934_toi_707_elicit_8.wav -- removed: \n",
      "corrupted audio: 220907-085934_toi_707_elicit_13.wav -- removed: \n",
      "corrupted audio: 220907-085934_toi_707_elicit_17.wav -- removed: \n",
      "corrupted audio: 220907-085934_toi_707_elicit_26.wav -- removed: \n",
      "corrupted audio: 220907-085934_toi_707_elicit_31.wav -- removed: \n",
      "corrupted audio: 220907-085934_toi_707_elicit_32.wav -- removed: \n",
      "corrupted audio: 220829-121443_toi_0ae_elicit_38.wav -- removed: \n",
      "corrupted audio: 220829-121443_toi_0ae_elicit_39.wav -- removed: \n",
      "corrupted audio: 220824-212101_toi_0ae_elicit_5.wav -- removed: \n",
      "corrupted audio: 220824-212101_toi_0ae_elicit_41.wav -- removed: \n",
      "corrupted audio: 220825-172540_toi_0ae_elicit_18.wav -- removed: \n",
      "corrupted audio: 220829-115108_toi_0ae_elicit_8.wav -- removed: \n",
      "corrupted audio: 220829-115108_toi_0ae_elicit_27.wav -- removed: \n",
      "corrupted audio: 220904-001239_toi_707_elicit_17.wav -- removed: \n",
      "corrupted audio: 220904-001239_toi_707_elicit_20.wav -- removed: \n",
      "corrupted audio: 220904-001239_toi_707_elicit_43.wav -- removed: \n",
      "corrupted audio: 220829-210823_toi_0ae_elicit_7.wav -- removed: \n",
      "corrupted audio: 220829-210823_toi_0ae_elicit_30.wav -- removed: \n",
      "corrupted audio: 220829-210823_toi_0ae_elicit_34.wav -- removed: \n",
      "corrupted audio: 220906-213431_toi_707_elicit_26.wav -- removed: \n",
      "corrupted audio: 220906-213431_toi_707_elicit_30.wav -- removed: \n",
      "corrupted audio: 220829-123253_toi_0ae_elicit_1.wav -- removed: \n",
      "corrupted audio: 220829-123253_toi_0ae_elicit_2.wav -- removed: \n",
      "corrupted audio: 220829-123454_toi_0ae_elicit_9.wav -- removed: \n",
      "corrupted audio: 220829-123454_toi_0ae_elicit_19.wav -- removed: \n",
      "corrupted audio: 220829-123454_toi_0ae_elicit_25.wav -- removed: \n",
      "corrupted audio: 220829-123454_toi_0ae_elicit_39.wav -- removed: \n",
      "corrupted audio: 220825-174423_toi_0ae_elicit_49.wav -- removed: \n",
      "corrupted audio: 220912-161719_toi_707_elicit_5.wav -- removed: \n",
      "corrupted audio: 220912-161719_toi_707_elicit_16.wav -- removed: \n",
      "corrupted audio: 220912-161719_toi_707_elicit_23.wav -- removed: \n",
      "corrupted audio: 220912-161719_toi_707_elicit_24.wav -- removed: \n",
      "corrupted audio: 220912-161719_toi_707_elicit_25.wav -- removed: \n",
      "corrupted audio: 220912-161719_toi_707_elicit_44.wav -- removed: \n",
      "corrupted audio: 220828-202103_toi_707_elicit_1.wav -- removed: \n",
      "corrupted audio: 220828-202103_toi_707_elicit_11.wav -- removed: \n",
      "corrupted audio: 220828-202103_toi_707_elicit_19.wav -- removed: \n",
      "corrupted audio: 220828-202103_toi_707_elicit_24.wav -- removed: \n",
      "corrupted audio: 220828-202103_toi_707_elicit_26.wav -- removed: \n",
      "corrupted audio: 220828-202103_toi_707_elicit_28.wav -- removed: \n",
      "corrupted audio: 220828-202103_toi_707_elicit_48.wav -- removed: \n",
      "corrupted audio: 220904-192446_toi_0ae_elicit_1.wav -- removed: \n",
      "corrupted audio: 220904-192446_toi_0ae_elicit_16.wav -- removed: \n",
      "corrupted audio: 220904-192446_toi_0ae_elicit_42.wav -- removed: \n",
      "corrupted audio: 220904-192446_toi_0ae_elicit_45.wav -- removed: \n",
      "corrupted audio: 220903-234119_toi_707_elicit_12.wav -- removed: \n",
      "corrupted audio: 220903-234119_toi_707_elicit_20.wav -- removed: \n",
      "corrupted audio: 220903-234119_toi_707_elicit_29.wav -- removed: \n",
      "corrupted audio: 220903-234119_toi_707_elicit_30.wav -- removed: \n",
      "corrupted audio: 220903-234119_toi_707_elicit_31.wav -- removed: \n",
      "corrupted audio: 220903-234119_toi_707_elicit_32.wav -- removed: \n",
      "corrupted audio: 220903-234119_toi_707_elicit_40.wav -- removed: \n",
      "corrupted audio: 220903-234119_toi_707_elicit_44.wav -- removed: \n",
      "corrupted audio: 220829-113431_toi_0ae_elicit_9.wav -- removed: \n",
      "corrupted audio: 220829-113431_toi_0ae_elicit_15.wav -- removed: \n",
      "corrupted audio: 220829-113431_toi_0ae_elicit_25.wav -- removed: \n",
      "corrupted audio: 220829-113431_toi_0ae_elicit_34.wav -- removed: \n",
      "corrupted audio: 220829-113431_toi_0ae_elicit_35.wav -- removed: \n",
      "corrupted audio: 220829-113431_toi_0ae_elicit_37.wav -- removed: \n",
      "corrupted audio: 220829-113431_toi_0ae_elicit_43.wav -- removed: \n",
      "corrupted audio: 220904-182522_toi_0ae_elicit_0.wav -- removed: \n",
      "corrupted audio: 220904-182522_toi_0ae_elicit_4.wav -- removed: \n",
      "corrupted audio: 220904-182522_toi_0ae_elicit_43.wav -- removed: \n",
      "corrupted audio: 220912-144621_toi_707_elicit_2.wav -- removed: \n",
      "corrupted audio: 220912-144621_toi_707_elicit_4.wav -- removed: \n",
      "corrupted audio: 220912-144621_toi_707_elicit_22.wav -- removed: \n",
      "corrupted audio: 220912-144621_toi_707_elicit_30.wav -- removed: \n",
      "corrupted audio: 220904-190848_toi_0ae_elicit_20.wav -- removed: \n",
      "corrupted audio: 220904-190848_toi_0ae_elicit_34.wav -- removed: \n",
      "corrupted audio: 220904-190848_toi_0ae_elicit_35.wav -- removed: \n"
     ]
    }
   ],
   "source": [
    "for linker, sess in zip(linkers, sessions):\n",
    "    sess_read = open(sess, 'r')\n",
    "    link_read = open(linker, 'r')\n",
    "    for link, sentence in zip(link_read.readlines(), sess_read.readlines()):\n",
    "        wav_name = os.path.basename(link).replace('\\n','')\n",
    "        wav_path = glob(\"/home/csikasote/Documents/Unza-NLP-Repos/zambezi-voice/tonga/Session_recordings/*/*/{0}\".format(wav_name))\n",
    "        if len(wav_path)==0:\n",
    "            continue\n",
    "        wav_path = wav_path[0]\n",
    "        try: \n",
    "            w = wave.open(wav_path, 'r') \n",
    "            d = w.readframes(w.getnframes()) \n",
    "        except: \n",
    "            print('corrupted audio: {0} -- removed: '.format(wav_name)) \n",
    "            # uncomment if you want to delete the corrupted file \n",
    "            #os.remove(wav_path)\n",
    "            continue \n",
    "        indices = '' \n",
    "        sentence = sentence.replace('##', '') \n",
    "        sentence = remove_punct(sentence).lower()        \n",
    "        all_session_text.writelines(wav_name[:-4] + '\\t' + sentence + '\\n')"
   ]
  },
  {
   "cell_type": "code",
   "execution_count": null,
   "metadata": {},
   "outputs": [],
   "source": []
  },
  {
   "cell_type": "code",
   "execution_count": null,
   "metadata": {},
   "outputs": [],
   "source": []
  }
 ],
 "metadata": {
  "kernelspec": {
   "display_name": "Python 3",
   "language": "python",
   "name": "python3"
  },
  "language_info": {
   "codemirror_mode": {
    "name": "ipython",
    "version": 3
   },
   "file_extension": ".py",
   "mimetype": "text/x-python",
   "name": "python",
   "nbconvert_exporter": "python",
   "pygments_lexer": "ipython3",
   "version": "3.8.10"
  }
 },
 "nbformat": 4,
 "nbformat_minor": 4
}
