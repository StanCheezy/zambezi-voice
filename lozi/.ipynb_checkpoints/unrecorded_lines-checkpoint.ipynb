{
 "cells": [
  {
   "cell_type": "code",
   "execution_count": 1,
   "id": "62293138",
   "metadata": {},
   "outputs": [],
   "source": [
    "## session000.txt\n",
    "## ni mu yeriselize kuli ha ni feza ku laula ni mu laeze ku ndatahe ye ni utwile\n",
    "## kuli na ni linkwana za kwai za lekisa.”\n",
    "## Litaula za hae ha linze li hasani ewalo.\n",
    "## Likomu zona ne se fi lukuluzwi, mi ba sa ni bona feela ba ni kakanyeza, ba li.\n",
    "## kono ha i bona muluti wa yona mwa mezi ya hupula kuli ki shakame ye nwi, ya shimbulukela ku sili."
   ]
  },
  {
   "cell_type": "code",
   "execution_count": 2,
   "id": "08130625",
   "metadata": {},
   "outputs": [],
   "source": [
    "## sessions004.txt\n",
    "## Kono nihakulicwalo munu kayumbwa ba ne ba na ni mukekecima ba tusa"
   ]
  },
  {
   "cell_type": "code",
   "execution_count": 3,
   "id": "3133bfb5",
   "metadata": {},
   "outputs": [],
   "source": [
    "## session003.txt\n",
    "## mi ka sona silimo seo bubeli bwa bashemi ba hae ba Iwela munda ha ba omboka mi ba bulaiwa ki mezi"
   ]
  },
  {
   "cell_type": "code",
   "execution_count": 1,
   "id": "98a1a5cf",
   "metadata": {},
   "outputs": [],
   "source": [
    "## session005.txt\n",
    "## Ka zazi le li 'f1wi lifolofolo za kopana ku lika ku fumana mukwa o mu'f1wi wa ku pima likozi za tau."
   ]
  },
  {
   "cell_type": "code",
   "execution_count": 2,
   "id": "01160d01",
   "metadata": {},
   "outputs": [],
   "source": [
    "## session028\n",
    "## ki mali kona a mbwambwama mwa mezi ka bomu kuli a te a yo li na wezi mwa mezi ka baka la mutoho\n",
    "## Ha felize zeo a ya kwa mota kono sabo ni lizwalo za mu swala ka tata kuli ni tutoho twa na nwile twa ku puma-puma twa fela\n",
    "##  Ha buziwa za Nongolo, Kamuyongole a li Nongolo ni katezi ku mu susueza kuli lu tahé kono u li u sa nwa\n",
    "## mi mane u sa ile hape kwa minzi ye kwa pili luli kwaa!\n",
    "## Kamuyongole na fumani kuli batu ne ba se ba longile kale libiana za bona mi mane ne ba libelezi feela bona\n",
    "## Muzamaisi a li '\"kanti na na funduka ha ni koni ku bulaiseza batu tala mwa naheñi ka baka la sikuba silisinwi, a ki yo ya na ni ngana yena u kutile'\n",
    "## Ni ka siya kañolo fa kota fa, u ta ka bona ha ta taha\n",
    "##  Mina ni ta yo mi siya ku munyan a ka ya inzi fa Mulobezi\n",
    "##  Uka yo mi fumana ku yena munn a mina, Ha ba fita fa Mulobezi Njolo a hana ku siala ku Nyangcla i li yena munyan'a muzamaisi\n",
    "## a li bo Nongolo ba ka yo ni fumana mwa Libingi ku munyan'a bona mwa komboni ya Leluwe\n",
    "##  Mu ta ba zibisa cwalo\n",
    "##  Njolo ha kwela fa Mulobezi na sa iponisa ku swaba ka munn'a hae ya siezi\n",
    "## Kamuyongole na lelile ku to bata musebezi mwa Libingi"
   ]
  },
  {
   "cell_type": "code",
   "execution_count": 3,
   "id": "742755e1",
   "metadata": {},
   "outputs": [],
   "source": [
    "## lozi_session_38\n",
    "##  Bana ba balui ba kala ku ikezeza kakuli ne ba ziba kuli ni ha ba ka fosa ha ba na ku fumana mulatu mi bana ba lifuzana ba kala ku ishonda.\n",
    "## Muleneñi wa Mbeta o no tumile hahulu kwa makalelo wa ba muleneni wa mifilifili ye miñata hahulu mi zazi ni zazi lindwa za ba teñi mwa hal'a balui ni bafuzana.\n",
    "##  Misebezi ya mulena ne i ezwa ki babotana ba sa lifwi se sinñwi.\n",
    "##  Batu ne ba nze ba yalela malelo inge ba tisa litapi ku Mulena ku to mu fa kono yena na sa ba fi se sinwi.\n",
    "##  Kwa ba butanga bo bu maswe mi batu ba nyanda hahulu.\n",
    "##  Matuna ba bañwi ba ne ba lukile ha ba bona cwalo ba zwa fa litulo za bona ba li ha ba koni ku nyandisa batu ka mikwa ye maswe.\n",
    "##  wale kwa siyalela Ngambela Sambambi ni mantuna a sikai fela mi nyandiso ya batu ya zwela pili ku fita pili.\n",
    "##  Kwa makalelo a ku busa kwa Mulena Lubinda, Mubita na nze a lika ku mu eleza ka mikwa ye miñata hahulu, mane ha ku bulawa mahe Muoli Mubita yena na hanile na ize:\n",
    "## Musali yo ne ili yena mahe Muoli tota-tota.\n",
    "## Cwale ku zwa hona foo, Muoli a kala ku toya Mubita mi a mu tameleza litaba ze ñata za buhata ku Mulena.\n",
    "## Mubita a ba tunuka mwa lapa la Mulena ku yo ina mwa lapa la Ngambela Nalwendo.\n",
    "## Kono nihakulicwalo ka nako ni nako na nze a taha ku Mulena ku to mu eleza.\n",
    "## Ngambela Nalwendo a mano bulawa, Mubita a inelela mwa lapa la hae mi a uta ni lubasi Iwa hae.\n",
    "## Ki ha Mubita a fumana kuli muleneñi wale wa t'ana mi zazi le linwi a ya ku Mulena, ha yo fita a li: \"Muñaka haiba mubuso wa hao wo u ta zamaiswa cwana ka mazazi a mañata, zazi le linwi u ta siyala u linosi mwa toho ya hao.\n",
    "##  Ha u lukeli ku nyandisa batu ba Nyambe ka nzila ye swabisa cwana, kono hape u hupule linzwi la na bulezi munna-muhulu ha lu mu siya le lili, 'u ta kutela kwanu pili ni si ka shwa\".\n",
    "## Mulena ha utwa manzwi a Mubita a kala ku lila hahulu mi a laela Mubita kuli a no tahanga kamita Muoli ha siyo ku to mu eleza.\n",
    "##  Mubita a kambelela mi a zwa a ya kwa lapa la hae.\n",
    "## Ka bumai Muoli a utwa kuli Mubita na ile kwa kwandu ku Mulena mi ka pili-pili a kala ku lemuha kuli Mulena na swabile hahulu.\n",
    "##  wale Muoli a lika mwa na konela kaufela kuli a bulaye Mubita kono kwa pala.\n",
    "##  Lifuzana kaufela za mwa muleneñi za keta Mubita kuli ki yena ya ta bihanga lipilaelo za bona ku Mulena mi kwa lukiswa kuli Mubita a silelezwe hahulu kuli a sike a bulawa.\n",
    "## Mubita a ba mueteleli wa bafuzana ka mazazi a mañata kono kwa mafelelezo Muoli a hapeleza Mulena kuli nto ya eza Mubita i fele mi a li ha ku na mubuso o ta ba ni lingambela ze peli, mi ni yena Sambambi a shuñelela a\n",
    "## li Mulena ha lata a beye Mubita fa bungambela ku fita kuli Mubita ni yena hape a be ni m'ata a ku zamaisa batu ba banwi mwa muleneñi.\n",
    "## Mubita a laelwa kuli ha sali mueteleli wa bafuzana mi batu ba bañata ba nyema hahulu mi ba hupula ku tunuka mwa muleneñi.\n",
    "##  Batu ba kala ku nyanda hahulu mi kwa ba ni lipulayano ze ñata.\n",
    "##  Situhu ni ketululo ya Muoli za ekezeha mazazi ni mazazi mi basizana ba kala ku baleha, alimunwi ka alimuñwi.\n",
    "## Zazi le linwi nama ye ne yanehilwe fa kalani mwa lapa, ya ciwa ki nja mi basizana kaufela ba bizwa, ku to buzwa mo ba ciselize nama linja.\n",
    "##  Basizana ha ba fita ba buziwa kono ha kuna ya na alabile mi Muoli a laela kuli kaufela bona ba natwe lipafa.\n",
    "##  Basizana ba natwa ka situhu se si maswe, mi ha ba natilwe kwa ketiwa ba bañwi ku bona hape kuli ba beswe mazoho fa liñetana le li cisa.\n",
    "##  Muoli na toile hahulu basizana ba bande mi a keta ba bane kuli ba cisiwe mulilo.\n",
    "##  Basizana ba bane ba ciswa fa pani ya linetana le li cisa mi ba holofala maswe.\n",
    "##  Bo m'a bona ha ba yo utwa ba taha ku to ba nga mi ba to nyefula Muoli hahulu.\n",
    "## Manzibwana basizana kaufela ba ne ba siyezi ba tobela ku bo m'a bona mi ba tokwa ku kuta hape."
   ]
  },
  {
   "cell_type": "code",
   "execution_count": 4,
   "id": "0123b8e4",
   "metadata": {},
   "outputs": [],
   "source": [
    "## lozi_session_29\n",
    "##  Na Kamuyongole ha ni ta bona kuli sitima se si hi fa kaufi ni ku funduka mi ta ipumisa ku yo leka tuco twa ku cela mwa nila ibe ni ta yo ikela ku sili kuli sima si la site in were"
   ]
  },
  {
   "cell_type": "code",
   "execution_count": null,
   "id": "219a907a",
   "metadata": {},
   "outputs": [],
   "source": []
  }
 ],
 "metadata": {
  "kernelspec": {
   "display_name": "Python 3 (ipykernel)",
   "language": "python",
   "name": "python3"
  },
  "language_info": {
   "codemirror_mode": {
    "name": "ipython",
    "version": 3
   },
   "file_extension": ".py",
   "mimetype": "text/x-python",
   "name": "python",
   "nbconvert_exporter": "python",
   "pygments_lexer": "ipython3",
   "version": "3.9.12"
  }
 },
 "nbformat": 4,
 "nbformat_minor": 5
}
