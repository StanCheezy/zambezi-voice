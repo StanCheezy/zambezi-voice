{
 "cells": [
  {
   "cell_type": "code",
   "execution_count": 1,
   "id": "62293138",
   "metadata": {},
   "outputs": [],
   "source": [
    "## session000.txt\n",
    "## ni mu yeriselize kuli ha ni feza ku laula ni mu laeze ku ndatahe ye ni utwile\n",
    "## kuli na ni linkwana za kwai za lekisa.”\n",
    "## Litaula za hae ha linze li hasani ewalo.\n",
    "## Likomu zona ne se fi lukuluzwi, mi ba sa ni bona feela ba ni kakanyeza, ba li.\n",
    "## kono ha i bona muluti wa yona mwa mezi ya hupula kuli ki shakame ye nwi, ya shimbulukela ku sili."
   ]
  },
  {
   "cell_type": "code",
   "execution_count": 2,
   "id": "08130625",
   "metadata": {},
   "outputs": [],
   "source": [
    "## sessions004.txt\n",
    "## Kono nihakulicwalo munu kayumbwa ba ne ba na ni mukekecima ba tusa"
   ]
  },
  {
   "cell_type": "code",
   "execution_count": 3,
   "id": "3133bfb5",
   "metadata": {},
   "outputs": [],
   "source": [
    "## session003.txt\n",
    "## mi ka sona silimo seo bubeli bwa bashemi ba hae ba Iwela munda ha ba omboka mi ba bulaiwa ki mezi"
   ]
  },
  {
   "cell_type": "code",
   "execution_count": 4,
   "id": "98a1a5cf",
   "metadata": {},
   "outputs": [],
   "source": [
    "## session005.txt\n",
    "## Ka zazi le li 'f1wi lifolofolo za kopana ku lika ku fumana mukwa o mu'f1wi wa ku pima likozi za tau."
   ]
  }
 ],
 "metadata": {
  "kernelspec": {
   "display_name": "Python 3 (ipykernel)",
   "language": "python",
   "name": "python3"
  },
  "language_info": {
   "codemirror_mode": {
    "name": "ipython",
    "version": 3
   },
   "file_extension": ".py",
   "mimetype": "text/x-python",
   "name": "python",
   "nbconvert_exporter": "python",
   "pygments_lexer": "ipython3",
   "version": "3.9.12"
  }
 },
 "nbformat": 4,
 "nbformat_minor": 5
}
