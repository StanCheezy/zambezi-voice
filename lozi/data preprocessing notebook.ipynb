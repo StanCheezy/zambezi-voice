{
 "cells": [
  {
   "cell_type": "code",
   "execution_count": 1,
   "metadata": {},
   "outputs": [],
   "source": [
    "import os \n",
    "import nltk \n",
    "import wave \n",
    "from glob import glob \n",
    "import pandas as pd"
   ]
  },
  {
   "cell_type": "code",
   "execution_count": 2,
   "metadata": {},
   "outputs": [],
   "source": [
    "def remove_punct(text):\n",
    "    tokenizer = nltk.RegexpTokenizer(r\"\\w+\") \n",
    "    new_words = tokenizer.tokenize(text)\n",
    "    t = ''\n",
    "    for i in new_words: \n",
    "        t+= i+' '\n",
    "    return t "
   ]
  },
  {
   "cell_type": "code",
   "execution_count": 3,
   "metadata": {},
   "outputs": [],
   "source": [
    "sessions = glob(\"/home/csikasote/Documents/Unza-NLP-Repos/zambezi-voice/lozi/wavs/*/*/Lozi_*.txt\")\n",
    "linkers = glob(\"/home/csikasote/Documents/Unza-NLP-Repos/zambezi-voice/lozi/wavs/*/*/*linker.txt\")"
   ]
  },
  {
   "cell_type": "code",
   "execution_count": 4,
   "metadata": {},
   "outputs": [],
   "source": [
    "all_session_text = open('all_sessions.txt', 'w') "
   ]
  },
  {
   "cell_type": "code",
   "execution_count": 5,
   "metadata": {},
   "outputs": [],
   "source": [
    "corrupted_list = []\n",
    "for linker, sess in zip(linkers, sessions):\n",
    "    sess_read = open(sess, 'r')\n",
    "    link_read = open(linker, 'r')\n",
    "    for link, sentence in zip(link_read.readlines(), sess_read.readlines()):\n",
    "        wav_name = os.path.basename(link).replace('\\n','')\n",
    "        wav_path = glob(\"/home/csikasote/Documents/Unza-NLP-Repos/zambezi-voice/lozi/wavs/*/*/{0}\".format(wav_name))\n",
    "        if len(wav_path)==0:\n",
    "            continue\n",
    "        wav_path = wav_path[0]\n",
    "        try: \n",
    "            w = wave.open(wav_path, 'r') \n",
    "            d = w.readframes(w.getnframes()) \n",
    "        except: \n",
    "            #print('corrupted audio: {0} '.format(wav_name))\n",
    "            corrupted_list.append(wav_name)\n",
    "            # uncomment if you want to delete the corrupted file \n",
    "            #os.remove(wav_path)\n",
    "            continue \n",
    "        indices = '' \n",
    "        sentence = sentence.replace('##', '') \n",
    "        sentence = remove_punct(sentence).lower()        \n",
    "        all_session_text.writelines(wav_name[:-4] + '\\t' + sentence + '\\n')\n",
    "        \n",
    "corrupt_audio_list_df = pd.DataFrame(corrupted_list, columns =['audio_id'])\n",
    "\n",
    "lozi_data_df = pd.read_csv('./all_sessions.txt', delimiter='\\t', header=None, names=['audio_id', 'sentence'])\n",
    "lozi_data_df.to_csv('./data.csv', sep='\\t',index=False)"
   ]
  },
  {
   "cell_type": "code",
   "execution_count": 6,
   "metadata": {},
   "outputs": [
    {
     "name": "stdout",
     "output_type": "stream",
     "text": [
      "<class 'pandas.core.frame.DataFrame'>\n",
      "Index: 0 entries\n",
      "Data columns (total 1 columns):\n",
      " #   Column    Non-Null Count  Dtype \n",
      "---  ------    --------------  ----- \n",
      " 0   audio_id  0 non-null      object\n",
      "dtypes: object(1)\n",
      "memory usage: 0.0+ bytes\n"
     ]
    }
   ],
   "source": [
    "corrupt_audio_list_df.info()"
   ]
  },
  {
   "cell_type": "code",
   "execution_count": 7,
   "metadata": {},
   "outputs": [
    {
     "name": "stdout",
     "output_type": "stream",
     "text": [
      "<class 'pandas.core.frame.DataFrame'>\n",
      "RangeIndex: 740 entries, 0 to 739\n",
      "Data columns (total 2 columns):\n",
      " #   Column    Non-Null Count  Dtype \n",
      "---  ------    --------------  ----- \n",
      " 0   audio_id  740 non-null    object\n",
      " 1   sentence  740 non-null    object\n",
      "dtypes: object(2)\n",
      "memory usage: 11.7+ KB\n"
     ]
    }
   ],
   "source": [
    "lozi_data_df.info()"
   ]
  },
  {
   "cell_type": "code",
   "execution_count": 8,
   "metadata": {},
   "outputs": [
    {
     "data": {
      "text/plain": [
       "0       220813-165251_loz_969_elicit_0\n",
       "1       220813-165251_loz_969_elicit_1\n",
       "2       220813-165251_loz_969_elicit_2\n",
       "3       220813-165251_loz_969_elicit_3\n",
       "4       220813-165251_loz_969_elicit_4\n",
       "                    ...               \n",
       "735    220813-165251_loz_969_elicit_39\n",
       "736    220813-165251_loz_969_elicit_40\n",
       "737    220813-165251_loz_969_elicit_41\n",
       "738    220813-165251_loz_969_elicit_42\n",
       "739    220813-165251_loz_969_elicit_43\n",
       "Name: audio_id, Length: 740, dtype: object"
      ]
     },
     "execution_count": 8,
     "metadata": {},
     "output_type": "execute_result"
    }
   ],
   "source": [
    "lozi_data_df.audio_id"
   ]
  },
  {
   "cell_type": "code",
   "execution_count": 9,
   "metadata": {},
   "outputs": [
    {
     "data": {
      "text/plain": [
       "Series([], Name: audio_id, dtype: object)"
      ]
     },
     "execution_count": 9,
     "metadata": {},
     "output_type": "execute_result"
    }
   ],
   "source": [
    "corrupt_audio_list_df.audio_id"
   ]
  },
  {
   "cell_type": "code",
   "execution_count": null,
   "metadata": {},
   "outputs": [],
   "source": []
  }
 ],
 "metadata": {
  "kernelspec": {
   "display_name": "Python 3",
   "language": "python",
   "name": "python3"
  },
  "language_info": {
   "codemirror_mode": {
    "name": "ipython",
    "version": 3
   },
   "file_extension": ".py",
   "mimetype": "text/x-python",
   "name": "python",
   "nbconvert_exporter": "python",
   "pygments_lexer": "ipython3",
   "version": "3.8.10"
  }
 },
 "nbformat": 4,
 "nbformat_minor": 4
}
